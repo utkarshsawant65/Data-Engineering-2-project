{
  "nbformat": 4,
  "nbformat_minor": 0,
  "metadata": {
    "colab": {
      "provenance": []
    },
    "kernelspec": {
      "name": "python3",
      "display_name": "Python 3"
    },
    "language_info": {
      "name": "python"
    }
  },
  "cells": [
    {
      "cell_type": "code",
      "source": [
        "pip install serpapi"
      ],
      "metadata": {
        "colab": {
          "base_uri": "https://localhost:8080/"
        },
        "id": "Ye5aRa_fHL_E",
        "outputId": "d1036cc7-8217-408f-edaf-2c425b9cc6dd"
      },
      "execution_count": 2,
      "outputs": [
        {
          "output_type": "stream",
          "name": "stdout",
          "text": [
            "Collecting serpapi\n",
            "  Downloading serpapi-0.1.5-py2.py3-none-any.whl.metadata (10 kB)\n",
            "Requirement already satisfied: requests in /usr/local/lib/python3.10/dist-packages (from serpapi) (2.32.3)\n",
            "Requirement already satisfied: charset-normalizer<4,>=2 in /usr/local/lib/python3.10/dist-packages (from requests->serpapi) (3.4.0)\n",
            "Requirement already satisfied: idna<4,>=2.5 in /usr/local/lib/python3.10/dist-packages (from requests->serpapi) (3.10)\n",
            "Requirement already satisfied: urllib3<3,>=1.21.1 in /usr/local/lib/python3.10/dist-packages (from requests->serpapi) (2.2.3)\n",
            "Requirement already satisfied: certifi>=2017.4.17 in /usr/local/lib/python3.10/dist-packages (from requests->serpapi) (2024.8.30)\n",
            "Downloading serpapi-0.1.5-py2.py3-none-any.whl (10 kB)\n",
            "Installing collected packages: serpapi\n",
            "Successfully installed serpapi-0.1.5\n"
          ]
        }
      ]
    },
    {
      "cell_type": "code",
      "source": [
        "!pip install --upgrade google-search-results\n",
        "\n"
      ],
      "metadata": {
        "colab": {
          "base_uri": "https://localhost:8080/"
        },
        "id": "H7Xw49d6MHUA",
        "outputId": "e5d08f81-5b5a-4667-ae07-3f2b1a4bcf41"
      },
      "execution_count": 3,
      "outputs": [
        {
          "output_type": "stream",
          "name": "stdout",
          "text": [
            "Collecting google-search-results\n",
            "  Downloading google_search_results-2.4.2.tar.gz (18 kB)\n",
            "  Preparing metadata (setup.py) ... \u001b[?25l\u001b[?25hdone\n",
            "Requirement already satisfied: requests in /usr/local/lib/python3.10/dist-packages (from google-search-results) (2.32.3)\n",
            "Requirement already satisfied: charset-normalizer<4,>=2 in /usr/local/lib/python3.10/dist-packages (from requests->google-search-results) (3.4.0)\n",
            "Requirement already satisfied: idna<4,>=2.5 in /usr/local/lib/python3.10/dist-packages (from requests->google-search-results) (3.10)\n",
            "Requirement already satisfied: urllib3<3,>=1.21.1 in /usr/local/lib/python3.10/dist-packages (from requests->google-search-results) (2.2.3)\n",
            "Requirement already satisfied: certifi>=2017.4.17 in /usr/local/lib/python3.10/dist-packages (from requests->google-search-results) (2024.8.30)\n",
            "Building wheels for collected packages: google-search-results\n",
            "  Building wheel for google-search-results (setup.py) ... \u001b[?25l\u001b[?25hdone\n",
            "  Created wheel for google-search-results: filename=google_search_results-2.4.2-py3-none-any.whl size=32009 sha256=2248d6d1aa3d1997b2e5a369fb9fd551e837ee2a2e4f8ac063bcb194a2ca31c6\n",
            "  Stored in directory: /root/.cache/pip/wheels/d3/b2/c3/03302d12bb44a2cdff3c9371f31b72c0c4e84b8d2285eeac53\n",
            "Successfully built google-search-results\n",
            "Installing collected packages: google-search-results\n",
            "Successfully installed google-search-results-2.4.2\n"
          ]
        }
      ]
    },
    {
      "cell_type": "code",
      "source": [
        "import csv\n",
        "from serpapi import GoogleSearch\n",
        "\n",
        "class GoogleTrendsDataFetcher:\n",
        "    def __init__(self, api_key, queries, geo, date_range, base_file_name):\n",
        "        self.api_key = api_key\n",
        "        self.queries = queries\n",
        "        self.geo = geo\n",
        "        self.date_range = date_range\n",
        "        self.base_file_name = base_file_name\n",
        "\n",
        "    def fetch_data(self, query):\n",
        "        params = {\n",
        "            \"api_key\": self.api_key,\n",
        "            \"engine\": \"google_trends\",\n",
        "            \"q\": query,\n",
        "            \"hl\": \"en\",\n",
        "            \"geo\": self.geo,\n",
        "            \"date\": self.date_range\n",
        "        }\n",
        "        search = GoogleSearch(params)\n",
        "        results = search.get_dict()\n",
        "        return results.get('interest_over_time', {}).get('timeline_data', [])\n",
        "\n",
        "    def preprocess_data(self, timeline_data, query):\n",
        "        preprocessed_data = []\n",
        "        for entry in timeline_data:\n",
        "            date = entry.get(\"date\", \"\")\n",
        "            values_list = entry.get(\"values\", [])\n",
        "\n",
        "            for val in values_list:\n",
        "                preprocessed_data.append({\n",
        "                    \"date\": date,\n",
        "                    \"query\": query,\n",
        "                    \"value\": val.get(\"value\", \"\")\n",
        "                })\n",
        "        return preprocessed_data\n",
        "\n",
        "    def save_to_csv(self, data, file_name):\n",
        "        fieldnames = [\"date\", \"query\", \"value\"]\n",
        "        try:\n",
        "            with open(file_name, mode=\"w\", newline=\"\", encoding=\"utf-8\") as file:\n",
        "                writer = csv.DictWriter(file, fieldnames=fieldnames)\n",
        "                writer.writeheader()\n",
        "                writer.writerows(data)\n",
        "            print(f\"Data successfully saved to {file_name}\")\n",
        "        except Exception as e:\n",
        "            print(f\"An error occurred while saving the data to the CSV file: {e}\")\n",
        "\n",
        "    def run(self):\n",
        "        for query in self.queries:\n",
        "            print(f\"Fetching data for query: {query}\")\n",
        "            raw_data = self.fetch_data(query)\n",
        "            processed_data = self.preprocess_data(raw_data, query)\n",
        "            file_name = f\"{self.base_file_name}_{query}.csv\"\n",
        "            self.save_to_csv(processed_data, file_name)\n",
        "\n",
        "if __name__ == \"__main__\":\n",
        "    API_KEY = \"1ed626ac494b70c62eea210962709bdc31197bb2d938cadd3dbe5f702a1646a8\"  # Replace with your SerpApi key\n",
        "    QUERIES = [\"microsoft\", \"apple\", \"ibm\", \"google\", \"tesla\", \"pfizer\", \"exxon mobil\", \"jp morgan\", \"cocacola\", \"amazon\"]\n",
        "    GEO = \"US\"\n",
        "    DATE_RANGE = \"2024-11-06 2024-12-06\"\n",
        "    BASE_FILE_NAME = \"google_trends_results\"\n",
        "\n",
        "    fetcher = GoogleTrendsDataFetcher(API_KEY, QUERIES, GEO, DATE_RANGE, BASE_FILE_NAME)\n",
        "    fetcher.run()\n"
      ],
      "metadata": {
        "colab": {
          "base_uri": "https://localhost:8080/"
        },
        "id": "BVGaOBiIMYXE",
        "outputId": "d2396638-4625-432e-d70d-16bcd8dac212"
      },
      "execution_count": 23,
      "outputs": [
        {
          "output_type": "stream",
          "name": "stdout",
          "text": [
            "Fetching data for query: microsoft\n",
            "Data successfully saved to google_trends_results_microsoft.csv\n",
            "Fetching data for query: apple\n",
            "Data successfully saved to google_trends_results_apple.csv\n",
            "Fetching data for query: ibm\n",
            "Data successfully saved to google_trends_results_ibm.csv\n",
            "Fetching data for query: google\n",
            "Data successfully saved to google_trends_results_google.csv\n",
            "Fetching data for query: tesla\n",
            "Data successfully saved to google_trends_results_tesla.csv\n",
            "Fetching data for query: pfizer\n",
            "Data successfully saved to google_trends_results_pfizer.csv\n",
            "Fetching data for query: exxon mobil\n",
            "Data successfully saved to google_trends_results_exxon mobil.csv\n",
            "Fetching data for query: jp morgan\n",
            "Data successfully saved to google_trends_results_jp morgan.csv\n",
            "Fetching data for query: cocacola\n",
            "Data successfully saved to google_trends_results_cocacola.csv\n",
            "Fetching data for query: amazon\n",
            "Data successfully saved to google_trends_results_amazon.csv\n"
          ]
        }
      ]
    }
  ]
}