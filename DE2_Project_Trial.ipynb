{
  "nbformat": 4,
  "nbformat_minor": 0,
  "metadata": {
    "colab": {
      "provenance": []
    },
    "kernelspec": {
      "name": "python3",
      "display_name": "Python 3"
    },
    "language_info": {
      "name": "python"
    }
  },
  "cells": [
    {
      "cell_type": "code",
      "source": [],
      "metadata": {
        "id": "uc4E4P8aa2Lj"
      },
      "execution_count": null,
      "outputs": []
    },
    {
      "cell_type": "code",
      "source": [
        "import requests"
      ],
      "metadata": {
        "id": "iHO49QU9azEE"
      },
      "execution_count": null,
      "outputs": []
    },
    {
      "cell_type": "code",
      "execution_count": null,
      "metadata": {
        "colab": {
          "base_uri": "https://localhost:8080/"
        },
        "id": "edEJzQTjajEy",
        "outputId": "596abcef-c2b0-43fa-8273-42a7e66ce6ff"
      },
      "outputs": [
        {
          "output_type": "stream",
          "name": "stdout",
          "text": [
            "CSV data saved to 'stock_data.csv'\n"
          ]
        }
      ],
      "source": [
        "import requests\n",
        "\n",
        "# API URL\n",
        "url = 'https://www.alphavantage.co/query?function=TIME_SERIES_INTRADAY&outputsize=full&symbol=IBM&datatype=csv&interval=5min&apikey=X80QHXO8A347D4J9'\n",
        "\n",
        "# Get the response\n",
        "r = requests.get(url)\n",
        "\n",
        "# Check if the request was successful\n",
        "if r.status_code == 200:\n",
        "    # Save the CSV data directly to a file\n",
        "    with open('stock_data.csv', 'w') as file:\n",
        "        file.write(r.text)\n",
        "    print(\"CSV data saved to 'stock_data.csv'\")\n",
        "else:\n",
        "    print(f\"Error: {r.status_code}\")\n"
      ]
    },
    {
      "cell_type": "code",
      "source": [
        "import pandas as pd\n",
        "df= pd.read_csv('stock_data.csv')\n",
        "print(df.head())"
      ],
      "metadata": {
        "colab": {
          "base_uri": "https://localhost:8080/"
        },
        "id": "f8iAgk5ge5dO",
        "outputId": "fe4f599c-e92b-4ddb-c728-795044acce23"
      },
      "execution_count": null,
      "outputs": [
        {
          "output_type": "stream",
          "name": "stdout",
          "text": [
            "             timestamp    open    high     low   close  volume\n",
            "0  2024-11-18 19:45:00  208.21  208.30  208.21  208.30      30\n",
            "1  2024-11-18 19:40:00  208.29  208.29  208.29  208.29      50\n",
            "2  2024-11-18 19:30:00  208.29  208.29  208.29  208.29       1\n",
            "3  2024-11-18 19:25:00  208.29  208.29  208.29  208.29       2\n",
            "4  2024-11-18 19:20:00  208.30  208.30  208.30  208.30       1\n"
          ]
        }
      ]
    },
    {
      "cell_type": "code",
      "source": [
        "df.info()"
      ],
      "metadata": {
        "colab": {
          "base_uri": "https://localhost:8080/"
        },
        "id": "eRgKwDC7fFA-",
        "outputId": "420fad0d-3feb-4436-8720-83f709c22957"
      },
      "execution_count": null,
      "outputs": [
        {
          "output_type": "stream",
          "name": "stdout",
          "text": [
            "<class 'pandas.core.frame.DataFrame'>\n",
            "RangeIndex: 3734 entries, 0 to 3733\n",
            "Data columns (total 6 columns):\n",
            " #   Column     Non-Null Count  Dtype  \n",
            "---  ------     --------------  -----  \n",
            " 0   timestamp  3734 non-null   object \n",
            " 1   open       3734 non-null   float64\n",
            " 2   high       3734 non-null   float64\n",
            " 3   low        3734 non-null   float64\n",
            " 4   close      3734 non-null   float64\n",
            " 5   volume     3734 non-null   int64  \n",
            "dtypes: float64(4), int64(1), object(1)\n",
            "memory usage: 175.2+ KB\n"
          ]
        }
      ]
    },
    {
      "cell_type": "code",
      "source": [
        "df.describe()"
      ],
      "metadata": {
        "colab": {
          "base_uri": "https://localhost:8080/",
          "height": 300
        },
        "id": "Whs9pVcMfQAX",
        "outputId": "e4fa2213-c177-40c9-9a3c-cc08a99d5700"
      },
      "execution_count": null,
      "outputs": [
        {
          "output_type": "execute_result",
          "data": {
            "text/plain": [
              "              open         high          low        close        volume\n",
              "count  3734.000000  3734.000000  3734.000000  3734.000000  3.734000e+03\n",
              "mean    212.638660   212.818450   212.452208   212.621054  4.269340e+04\n",
              "std       7.881359     7.927805     7.844099     7.860985  1.812275e+05\n",
              "min     202.258100   202.426800   201.901000   202.208500  1.000000e+00\n",
              "25%     207.050000   207.230000   206.803025   207.010500  4.100000e+01\n",
              "50%     211.010000   211.197300   210.920000   211.036800  1.721000e+03\n",
              "75%     213.474550   213.585925   213.280800   213.459475  2.793650e+04\n",
              "max     232.111700   233.034400   232.062100   232.062100  4.043434e+06"
            ],
            "text/html": [
              "\n",
              "  <div id=\"df-9b3a2d86-e24e-4cf5-849d-e856d2bd1e57\" class=\"colab-df-container\">\n",
              "    <div>\n",
              "<style scoped>\n",
              "    .dataframe tbody tr th:only-of-type {\n",
              "        vertical-align: middle;\n",
              "    }\n",
              "\n",
              "    .dataframe tbody tr th {\n",
              "        vertical-align: top;\n",
              "    }\n",
              "\n",
              "    .dataframe thead th {\n",
              "        text-align: right;\n",
              "    }\n",
              "</style>\n",
              "<table border=\"1\" class=\"dataframe\">\n",
              "  <thead>\n",
              "    <tr style=\"text-align: right;\">\n",
              "      <th></th>\n",
              "      <th>open</th>\n",
              "      <th>high</th>\n",
              "      <th>low</th>\n",
              "      <th>close</th>\n",
              "      <th>volume</th>\n",
              "    </tr>\n",
              "  </thead>\n",
              "  <tbody>\n",
              "    <tr>\n",
              "      <th>count</th>\n",
              "      <td>3734.000000</td>\n",
              "      <td>3734.000000</td>\n",
              "      <td>3734.000000</td>\n",
              "      <td>3734.000000</td>\n",
              "      <td>3.734000e+03</td>\n",
              "    </tr>\n",
              "    <tr>\n",
              "      <th>mean</th>\n",
              "      <td>212.638660</td>\n",
              "      <td>212.818450</td>\n",
              "      <td>212.452208</td>\n",
              "      <td>212.621054</td>\n",
              "      <td>4.269340e+04</td>\n",
              "    </tr>\n",
              "    <tr>\n",
              "      <th>std</th>\n",
              "      <td>7.881359</td>\n",
              "      <td>7.927805</td>\n",
              "      <td>7.844099</td>\n",
              "      <td>7.860985</td>\n",
              "      <td>1.812275e+05</td>\n",
              "    </tr>\n",
              "    <tr>\n",
              "      <th>min</th>\n",
              "      <td>202.258100</td>\n",
              "      <td>202.426800</td>\n",
              "      <td>201.901000</td>\n",
              "      <td>202.208500</td>\n",
              "      <td>1.000000e+00</td>\n",
              "    </tr>\n",
              "    <tr>\n",
              "      <th>25%</th>\n",
              "      <td>207.050000</td>\n",
              "      <td>207.230000</td>\n",
              "      <td>206.803025</td>\n",
              "      <td>207.010500</td>\n",
              "      <td>4.100000e+01</td>\n",
              "    </tr>\n",
              "    <tr>\n",
              "      <th>50%</th>\n",
              "      <td>211.010000</td>\n",
              "      <td>211.197300</td>\n",
              "      <td>210.920000</td>\n",
              "      <td>211.036800</td>\n",
              "      <td>1.721000e+03</td>\n",
              "    </tr>\n",
              "    <tr>\n",
              "      <th>75%</th>\n",
              "      <td>213.474550</td>\n",
              "      <td>213.585925</td>\n",
              "      <td>213.280800</td>\n",
              "      <td>213.459475</td>\n",
              "      <td>2.793650e+04</td>\n",
              "    </tr>\n",
              "    <tr>\n",
              "      <th>max</th>\n",
              "      <td>232.111700</td>\n",
              "      <td>233.034400</td>\n",
              "      <td>232.062100</td>\n",
              "      <td>232.062100</td>\n",
              "      <td>4.043434e+06</td>\n",
              "    </tr>\n",
              "  </tbody>\n",
              "</table>\n",
              "</div>\n",
              "    <div class=\"colab-df-buttons\">\n",
              "\n",
              "  <div class=\"colab-df-container\">\n",
              "    <button class=\"colab-df-convert\" onclick=\"convertToInteractive('df-9b3a2d86-e24e-4cf5-849d-e856d2bd1e57')\"\n",
              "            title=\"Convert this dataframe to an interactive table.\"\n",
              "            style=\"display:none;\">\n",
              "\n",
              "  <svg xmlns=\"http://www.w3.org/2000/svg\" height=\"24px\" viewBox=\"0 -960 960 960\">\n",
              "    <path d=\"M120-120v-720h720v720H120Zm60-500h600v-160H180v160Zm220 220h160v-160H400v160Zm0 220h160v-160H400v160ZM180-400h160v-160H180v160Zm440 0h160v-160H620v160ZM180-180h160v-160H180v160Zm440 0h160v-160H620v160Z\"/>\n",
              "  </svg>\n",
              "    </button>\n",
              "\n",
              "  <style>\n",
              "    .colab-df-container {\n",
              "      display:flex;\n",
              "      gap: 12px;\n",
              "    }\n",
              "\n",
              "    .colab-df-convert {\n",
              "      background-color: #E8F0FE;\n",
              "      border: none;\n",
              "      border-radius: 50%;\n",
              "      cursor: pointer;\n",
              "      display: none;\n",
              "      fill: #1967D2;\n",
              "      height: 32px;\n",
              "      padding: 0 0 0 0;\n",
              "      width: 32px;\n",
              "    }\n",
              "\n",
              "    .colab-df-convert:hover {\n",
              "      background-color: #E2EBFA;\n",
              "      box-shadow: 0px 1px 2px rgba(60, 64, 67, 0.3), 0px 1px 3px 1px rgba(60, 64, 67, 0.15);\n",
              "      fill: #174EA6;\n",
              "    }\n",
              "\n",
              "    .colab-df-buttons div {\n",
              "      margin-bottom: 4px;\n",
              "    }\n",
              "\n",
              "    [theme=dark] .colab-df-convert {\n",
              "      background-color: #3B4455;\n",
              "      fill: #D2E3FC;\n",
              "    }\n",
              "\n",
              "    [theme=dark] .colab-df-convert:hover {\n",
              "      background-color: #434B5C;\n",
              "      box-shadow: 0px 1px 3px 1px rgba(0, 0, 0, 0.15);\n",
              "      filter: drop-shadow(0px 1px 2px rgba(0, 0, 0, 0.3));\n",
              "      fill: #FFFFFF;\n",
              "    }\n",
              "  </style>\n",
              "\n",
              "    <script>\n",
              "      const buttonEl =\n",
              "        document.querySelector('#df-9b3a2d86-e24e-4cf5-849d-e856d2bd1e57 button.colab-df-convert');\n",
              "      buttonEl.style.display =\n",
              "        google.colab.kernel.accessAllowed ? 'block' : 'none';\n",
              "\n",
              "      async function convertToInteractive(key) {\n",
              "        const element = document.querySelector('#df-9b3a2d86-e24e-4cf5-849d-e856d2bd1e57');\n",
              "        const dataTable =\n",
              "          await google.colab.kernel.invokeFunction('convertToInteractive',\n",
              "                                                    [key], {});\n",
              "        if (!dataTable) return;\n",
              "\n",
              "        const docLinkHtml = 'Like what you see? Visit the ' +\n",
              "          '<a target=\"_blank\" href=https://colab.research.google.com/notebooks/data_table.ipynb>data table notebook</a>'\n",
              "          + ' to learn more about interactive tables.';\n",
              "        element.innerHTML = '';\n",
              "        dataTable['output_type'] = 'display_data';\n",
              "        await google.colab.output.renderOutput(dataTable, element);\n",
              "        const docLink = document.createElement('div');\n",
              "        docLink.innerHTML = docLinkHtml;\n",
              "        element.appendChild(docLink);\n",
              "      }\n",
              "    </script>\n",
              "  </div>\n",
              "\n",
              "\n",
              "<div id=\"df-da3cb265-95a5-40b1-b4fd-d5615e9df118\">\n",
              "  <button class=\"colab-df-quickchart\" onclick=\"quickchart('df-da3cb265-95a5-40b1-b4fd-d5615e9df118')\"\n",
              "            title=\"Suggest charts\"\n",
              "            style=\"display:none;\">\n",
              "\n",
              "<svg xmlns=\"http://www.w3.org/2000/svg\" height=\"24px\"viewBox=\"0 0 24 24\"\n",
              "     width=\"24px\">\n",
              "    <g>\n",
              "        <path d=\"M19 3H5c-1.1 0-2 .9-2 2v14c0 1.1.9 2 2 2h14c1.1 0 2-.9 2-2V5c0-1.1-.9-2-2-2zM9 17H7v-7h2v7zm4 0h-2V7h2v10zm4 0h-2v-4h2v4z\"/>\n",
              "    </g>\n",
              "</svg>\n",
              "  </button>\n",
              "\n",
              "<style>\n",
              "  .colab-df-quickchart {\n",
              "      --bg-color: #E8F0FE;\n",
              "      --fill-color: #1967D2;\n",
              "      --hover-bg-color: #E2EBFA;\n",
              "      --hover-fill-color: #174EA6;\n",
              "      --disabled-fill-color: #AAA;\n",
              "      --disabled-bg-color: #DDD;\n",
              "  }\n",
              "\n",
              "  [theme=dark] .colab-df-quickchart {\n",
              "      --bg-color: #3B4455;\n",
              "      --fill-color: #D2E3FC;\n",
              "      --hover-bg-color: #434B5C;\n",
              "      --hover-fill-color: #FFFFFF;\n",
              "      --disabled-bg-color: #3B4455;\n",
              "      --disabled-fill-color: #666;\n",
              "  }\n",
              "\n",
              "  .colab-df-quickchart {\n",
              "    background-color: var(--bg-color);\n",
              "    border: none;\n",
              "    border-radius: 50%;\n",
              "    cursor: pointer;\n",
              "    display: none;\n",
              "    fill: var(--fill-color);\n",
              "    height: 32px;\n",
              "    padding: 0;\n",
              "    width: 32px;\n",
              "  }\n",
              "\n",
              "  .colab-df-quickchart:hover {\n",
              "    background-color: var(--hover-bg-color);\n",
              "    box-shadow: 0 1px 2px rgba(60, 64, 67, 0.3), 0 1px 3px 1px rgba(60, 64, 67, 0.15);\n",
              "    fill: var(--button-hover-fill-color);\n",
              "  }\n",
              "\n",
              "  .colab-df-quickchart-complete:disabled,\n",
              "  .colab-df-quickchart-complete:disabled:hover {\n",
              "    background-color: var(--disabled-bg-color);\n",
              "    fill: var(--disabled-fill-color);\n",
              "    box-shadow: none;\n",
              "  }\n",
              "\n",
              "  .colab-df-spinner {\n",
              "    border: 2px solid var(--fill-color);\n",
              "    border-color: transparent;\n",
              "    border-bottom-color: var(--fill-color);\n",
              "    animation:\n",
              "      spin 1s steps(1) infinite;\n",
              "  }\n",
              "\n",
              "  @keyframes spin {\n",
              "    0% {\n",
              "      border-color: transparent;\n",
              "      border-bottom-color: var(--fill-color);\n",
              "      border-left-color: var(--fill-color);\n",
              "    }\n",
              "    20% {\n",
              "      border-color: transparent;\n",
              "      border-left-color: var(--fill-color);\n",
              "      border-top-color: var(--fill-color);\n",
              "    }\n",
              "    30% {\n",
              "      border-color: transparent;\n",
              "      border-left-color: var(--fill-color);\n",
              "      border-top-color: var(--fill-color);\n",
              "      border-right-color: var(--fill-color);\n",
              "    }\n",
              "    40% {\n",
              "      border-color: transparent;\n",
              "      border-right-color: var(--fill-color);\n",
              "      border-top-color: var(--fill-color);\n",
              "    }\n",
              "    60% {\n",
              "      border-color: transparent;\n",
              "      border-right-color: var(--fill-color);\n",
              "    }\n",
              "    80% {\n",
              "      border-color: transparent;\n",
              "      border-right-color: var(--fill-color);\n",
              "      border-bottom-color: var(--fill-color);\n",
              "    }\n",
              "    90% {\n",
              "      border-color: transparent;\n",
              "      border-bottom-color: var(--fill-color);\n",
              "    }\n",
              "  }\n",
              "</style>\n",
              "\n",
              "  <script>\n",
              "    async function quickchart(key) {\n",
              "      const quickchartButtonEl =\n",
              "        document.querySelector('#' + key + ' button');\n",
              "      quickchartButtonEl.disabled = true;  // To prevent multiple clicks.\n",
              "      quickchartButtonEl.classList.add('colab-df-spinner');\n",
              "      try {\n",
              "        const charts = await google.colab.kernel.invokeFunction(\n",
              "            'suggestCharts', [key], {});\n",
              "      } catch (error) {\n",
              "        console.error('Error during call to suggestCharts:', error);\n",
              "      }\n",
              "      quickchartButtonEl.classList.remove('colab-df-spinner');\n",
              "      quickchartButtonEl.classList.add('colab-df-quickchart-complete');\n",
              "    }\n",
              "    (() => {\n",
              "      let quickchartButtonEl =\n",
              "        document.querySelector('#df-da3cb265-95a5-40b1-b4fd-d5615e9df118 button');\n",
              "      quickchartButtonEl.style.display =\n",
              "        google.colab.kernel.accessAllowed ? 'block' : 'none';\n",
              "    })();\n",
              "  </script>\n",
              "</div>\n",
              "\n",
              "    </div>\n",
              "  </div>\n"
            ],
            "application/vnd.google.colaboratory.intrinsic+json": {
              "type": "dataframe",
              "summary": "{\n  \"name\": \"df\",\n  \"rows\": 8,\n  \"fields\": [\n    {\n      \"column\": \"open\",\n      \"properties\": {\n        \"dtype\": \"number\",\n        \"std\": 1257.2760349042098,\n        \"min\": 7.881359390223374,\n        \"max\": 3734.0,\n        \"num_unique_values\": 8,\n        \"samples\": [\n          212.6386602838779,\n          211.01,\n          3734.0\n        ],\n        \"semantic_type\": \"\",\n        \"description\": \"\"\n      }\n    },\n    {\n      \"column\": \"high\",\n      \"properties\": {\n        \"dtype\": \"number\",\n        \"std\": 1257.1920034203722,\n        \"min\": 7.927804823341584,\n        \"max\": 3734.0,\n        \"num_unique_values\": 8,\n        \"samples\": [\n          212.81844954472416,\n          211.1973,\n          3734.0\n        ],\n        \"semantic_type\": \"\",\n        \"description\": \"\"\n      }\n    },\n    {\n      \"column\": \"low\",\n      \"properties\": {\n        \"dtype\": \"number\",\n        \"std\": 1257.3321140864027,\n        \"min\": 7.844099086197505,\n        \"max\": 3734.0,\n        \"num_unique_values\": 8,\n        \"samples\": [\n          212.45220790037493,\n          210.92,\n          3734.0\n        ],\n        \"semantic_type\": \"\",\n        \"description\": \"\"\n      }\n    },\n    {\n      \"column\": \"close\",\n      \"properties\": {\n        \"dtype\": \"number\",\n        \"std\": 1257.2842533840674,\n        \"min\": 7.860984776504753,\n        \"max\": 3734.0,\n        \"num_unique_values\": 8,\n        \"samples\": [\n          212.62105350830208,\n          211.0368,\n          3734.0\n        ],\n        \"semantic_type\": \"\",\n        \"description\": \"\"\n      }\n    },\n    {\n      \"column\": \"volume\",\n      \"properties\": {\n        \"dtype\": \"number\",\n        \"std\": 1417881.9421032064,\n        \"min\": 1.0,\n        \"max\": 4043434.0,\n        \"num_unique_values\": 8,\n        \"samples\": [\n          42693.39983931441,\n          1721.0,\n          3734.0\n        ],\n        \"semantic_type\": \"\",\n        \"description\": \"\"\n      }\n    }\n  ]\n}"
            }
          },
          "metadata": {},
          "execution_count": 10
        }
      ]
    },
    {
      "cell_type": "code",
      "source": [
        "# Check for missing values in the dataset\n",
        "missing_values = df.isnull().sum()\n",
        "print(missing_values)\n"
      ],
      "metadata": {
        "colab": {
          "base_uri": "https://localhost:8080/"
        },
        "id": "JdojLGD1gWFY",
        "outputId": "5950f6e0-f864-49f1-e42e-c773acd990fc"
      },
      "execution_count": null,
      "outputs": [
        {
          "output_type": "stream",
          "name": "stdout",
          "text": [
            "timestamp    0\n",
            "open         0\n",
            "high         0\n",
            "low          0\n",
            "close        0\n",
            "volume       0\n",
            "dtype: int64\n"
          ]
        }
      ]
    },
    {
      "cell_type": "code",
      "source": [
        "# Check and remove duplicate rows\n",
        "duplicates_count = df.duplicated().sum()\n",
        "data = df.drop_duplicates()\n",
        "print(f\"Removed {duplicates_count} duplicate rows.\")\n"
      ],
      "metadata": {
        "colab": {
          "base_uri": "https://localhost:8080/"
        },
        "id": "BMd67aDLgbKL",
        "outputId": "7c841bcd-90f6-486b-ce77-735265a61cde"
      },
      "execution_count": null,
      "outputs": [
        {
          "output_type": "stream",
          "name": "stdout",
          "text": [
            "Removed 0 duplicate rows.\n"
          ]
        }
      ]
    },
    {
      "cell_type": "code",
      "source": [
        "# Add new features\n",
        "df['price_change'] = df['close'] - df['open']\n",
        "df['high_low_diff'] = df['high'] - df['low']\n",
        "df['volatility'] = (df['high'] - df['low']) / df['close']\n",
        "print(df[['price_change', 'high_low_diff', 'volatility']].head())\n"
      ],
      "metadata": {
        "colab": {
          "base_uri": "https://localhost:8080/"
        },
        "id": "iVUme2xjghAV",
        "outputId": "64067e6a-471b-4299-940a-127b379ea4cd"
      },
      "execution_count": null,
      "outputs": [
        {
          "output_type": "stream",
          "name": "stdout",
          "text": [
            "   price_change  high_low_diff  volatility\n",
            "0          0.09           0.09    0.000432\n",
            "1          0.00           0.00    0.000000\n",
            "2          0.00           0.00    0.000000\n",
            "3          0.00           0.00    0.000000\n",
            "4          0.00           0.00    0.000000\n"
          ]
        }
      ]
    },
    {
      "cell_type": "code",
      "source": [
        "# Identify potential outliers using IQR for numeric columns\n",
        "numeric_cols = ['open', 'high', 'low', 'close', 'volume']\n",
        "Q1 = df[numeric_cols].quantile(0.25)\n",
        "Q3 = df[numeric_cols].quantile(0.75)\n",
        "IQR = Q3 - Q1\n",
        "\n",
        "outliers = ((df[numeric_cols] < (Q1 - 1.5 * IQR)) | (df[numeric_cols] > (Q3 + 1.5 * IQR))).sum()\n",
        "print(\"Outliers per column:\")\n",
        "print(outliers)\n"
      ],
      "metadata": {
        "colab": {
          "base_uri": "https://localhost:8080/"
        },
        "id": "q-B6HhZYmeKE",
        "outputId": "ff781097-a4b5-4301-f1b3-6bab5b082414"
      },
      "execution_count": null,
      "outputs": [
        {
          "output_type": "stream",
          "name": "stdout",
          "text": [
            "Outliers per column:\n",
            "open      528\n",
            "high      540\n",
            "low       522\n",
            "close     525\n",
            "volume    301\n",
            "dtype: int64\n"
          ]
        }
      ]
    },
    {
      "cell_type": "code",
      "source": [
        "print(df)"
      ],
      "metadata": {
        "colab": {
          "base_uri": "https://localhost:8080/"
        },
        "id": "YNwGZLLXmmpg",
        "outputId": "70b2f352-f083-4e54-c13b-38ff5282dbc0"
      },
      "execution_count": null,
      "outputs": [
        {
          "output_type": "stream",
          "name": "stdout",
          "text": [
            "                timestamp      open      high       low     close  volume  \\\n",
            "0     2024-11-18 19:45:00  208.2100  208.3000  208.2100  208.3000      30   \n",
            "1     2024-11-18 19:40:00  208.2900  208.2900  208.2900  208.2900      50   \n",
            "2     2024-11-18 19:30:00  208.2900  208.2900  208.2900  208.2900       1   \n",
            "3     2024-11-18 19:25:00  208.2900  208.2900  208.2900  208.2900       2   \n",
            "4     2024-11-18 19:20:00  208.3000  208.3000  208.3000  208.3000       1   \n",
            "...                   ...       ...       ...       ...       ...     ...   \n",
            "3729  2024-10-21 04:30:00  230.3953  230.9013  230.3953  230.9013       5   \n",
            "3730  2024-10-21 04:15:00  230.3953  230.3953  230.3953  230.3953       3   \n",
            "3731  2024-10-21 04:10:00  230.4052  230.4052  230.2861  230.2861      17   \n",
            "3732  2024-10-21 04:05:00  230.3754  230.4151  230.2861  230.4052      33   \n",
            "3733  2024-10-21 04:00:00  230.6632  230.7624  230.3754  230.3754      27   \n",
            "\n",
            "      price_change  high_low_diff  volatility  \n",
            "0           0.0900         0.0900    0.000432  \n",
            "1           0.0000         0.0000    0.000000  \n",
            "2           0.0000         0.0000    0.000000  \n",
            "3           0.0000         0.0000    0.000000  \n",
            "4           0.0000         0.0000    0.000000  \n",
            "...            ...            ...         ...  \n",
            "3729        0.5060         0.5060    0.002191  \n",
            "3730        0.0000         0.0000    0.000000  \n",
            "3731       -0.1191         0.1191    0.000517  \n",
            "3732        0.0298         0.1290    0.000560  \n",
            "3733       -0.2878         0.3870    0.001680  \n",
            "\n",
            "[3734 rows x 9 columns]\n"
          ]
        }
      ]
    },
    {
      "cell_type": "code",
      "source": [
        "# Save the dataframe to a CSV file named df_pp.csv\n",
        "data.to_csv('df_pp.csv', index=False)\n",
        "print(\"Dataframe saved as 'df_pp.csv'.\")\n"
      ],
      "metadata": {
        "colab": {
          "base_uri": "https://localhost:8080/"
        },
        "id": "d9oTAxSFoLHF",
        "outputId": "76d89767-f0d8-4975-edca-1239ee596693"
      },
      "execution_count": null,
      "outputs": [
        {
          "output_type": "stream",
          "name": "stdout",
          "text": [
            "Dataframe saved as 'df_pp.csv'.\n"
          ]
        }
      ]
    },
    {
      "cell_type": "code",
      "source": [
        "# Ensure all preprocessing steps are applied to 'data'\n",
        "df['price_change'] = df['close'] - df['open']\n",
        "df['high_low_diff'] = df['high'] - df['low']\n",
        "df['volatility'] = (df['high'] - df['low']) / df['close']\n",
        "\n",
        "# Save the modified DataFrame\n",
        "df.to_csv('df_pp.csv', index=False)\n",
        "print(\"jaa jaake stocks dekh\")\n"
      ],
      "metadata": {
        "colab": {
          "base_uri": "https://localhost:8080/"
        },
        "id": "UCzJvksAooEk",
        "outputId": "146d525d-5aa6-471a-a280-15048c3ef119"
      },
      "execution_count": null,
      "outputs": [
        {
          "output_type": "stream",
          "name": "stdout",
          "text": [
            "jaa jaake stocks dekh\n"
          ]
        }
      ]
    }
  ]
}