{
  "cells": [
    {
      "cell_type": "code",
      "execution_count": 4,
      "metadata": {
        "colab": {
          "base_uri": "https://localhost:8080/"
        },
        "id": "tOoq4Kj8Vlol",
        "outputId": "515ec763-dbe5-49b1-b490-38cebfc650c8"
      },
      "outputs": [
        {
          "output_type": "stream",
          "name": "stdout",
          "text": [
            "Collecting scheduler\n",
            "  Downloading scheduler-0.8.7-py3-none-any.whl.metadata (8.5 kB)\n",
            "Requirement already satisfied: typeguard>=3.0.0 in /usr/local/lib/python3.10/dist-packages (from scheduler) (4.4.1)\n",
            "Requirement already satisfied: typing-extensions>=4.10.0 in /usr/local/lib/python3.10/dist-packages (from typeguard>=3.0.0->scheduler) (4.12.2)\n",
            "Downloading scheduler-0.8.7-py3-none-any.whl (34 kB)\n",
            "Installing collected packages: scheduler\n",
            "Successfully installed scheduler-0.8.7\n"
          ]
        }
      ],
      "source": [
        "pip install scheduler"
      ]
    },
    {
      "cell_type": "code",
      "execution_count": 3,
      "metadata": {
        "colab": {
          "base_uri": "https://localhost:8080/"
        },
        "id": "77PQ2H0sV0Bi",
        "outputId": "bbf21e91-8c28-4f9b-a1fe-4a2f63502d8c"
      },
      "outputs": [
        {
          "output_type": "stream",
          "name": "stdout",
          "text": [
            "Requirement already satisfied: requests in /usr/local/lib/python3.10/dist-packages (2.32.3)\n",
            "Requirement already satisfied: charset-normalizer<4,>=2 in /usr/local/lib/python3.10/dist-packages (from requests) (3.4.0)\n",
            "Requirement already satisfied: idna<4,>=2.5 in /usr/local/lib/python3.10/dist-packages (from requests) (3.10)\n",
            "Requirement already satisfied: urllib3<3,>=1.21.1 in /usr/local/lib/python3.10/dist-packages (from requests) (2.2.3)\n",
            "Requirement already satisfied: certifi>=2017.4.17 in /usr/local/lib/python3.10/dist-packages (from requests) (2024.8.30)\n"
          ]
        }
      ],
      "source": [
        "pip install requests"
      ]
    },
    {
      "cell_type": "code",
      "execution_count": 2,
      "metadata": {
        "colab": {
          "base_uri": "https://localhost:8080/"
        },
        "id": "9KdJyoaDWFWa",
        "outputId": "51ee0453-010f-4caa-eb51-7e564d064ae8"
      },
      "outputs": [
        {
          "output_type": "stream",
          "name": "stdout",
          "text": [
            "Collecting schedule\n",
            "  Downloading schedule-1.2.2-py3-none-any.whl.metadata (3.8 kB)\n",
            "Downloading schedule-1.2.2-py3-none-any.whl (12 kB)\n",
            "Installing collected packages: schedule\n",
            "Successfully installed schedule-1.2.2\n"
          ]
        }
      ],
      "source": [
        "pip install schedule"
      ]
    },
    {
      "cell_type": "code",
      "source": [
        "import requests\n",
        "import csv\n",
        "import schedule\n",
        "import time\n",
        "from datetime import datetime\n",
        "import os\n",
        "\n",
        "# Constants\n",
        "STOCK_FILENAME = \"ibm_stock_data.csv\"\n",
        "LOG_FILENAME = \"update_log.txt\"\n",
        "API_URL = 'https://www.alphavantage.co/query?function=TIME_SERIES_INTRADAY&symbol=IBM&interval=5min&outputsize=full&apikey=4R98MITURZRRFCAW'\n",
        "\n",
        "# Function to load existing timestamps from the stock data file\n",
        "def load_existing_timestamps():\n",
        "    if not os.path.exists(STOCK_FILENAME):\n",
        "        return set()\n",
        "    with open(STOCK_FILENAME, mode=\"r\") as file:\n",
        "        reader = csv.reader(file)\n",
        "        next(reader)  # Skip header\n",
        "        return {row[0] for row in reader}  # Collect all timestamps\n",
        "\n",
        "# Function to fetch and update stock data\n",
        "def fetch_stock_data():\n",
        "    # Fetch data from the API\n",
        "    r = requests.get(API_URL)\n",
        "    data = r.json()\n",
        "\n",
        "    if \"Time Series (5min)\" in data:\n",
        "        time_series = data[\"Time Series (5min)\"]\n",
        "\n",
        "        # Load existing timestamps to avoid duplication\n",
        "        existing_timestamps = load_existing_timestamps()\n",
        "\n",
        "        # Prepare rows for new data\n",
        "        new_rows = []\n",
        "        for timestamp, values in time_series.items():\n",
        "            if timestamp not in existing_timestamps:\n",
        "                new_rows.append([\n",
        "                    timestamp,\n",
        "                    values[\"1. open\"],\n",
        "                    values[\"2. high\"],\n",
        "                    values[\"3. low\"],\n",
        "                    values[\"4. close\"],\n",
        "                    values[\"5. volume\"]\n",
        "                ])\n",
        "\n",
        "        if new_rows:\n",
        "            # Append new rows to the file\n",
        "            file_exists = os.path.exists(STOCK_FILENAME)\n",
        "            with open(STOCK_FILENAME, mode=\"a\", newline=\"\") as file:\n",
        "                writer = csv.writer(file)\n",
        "                if not file_exists:\n",
        "                    # Write header if the file is new\n",
        "                    header = [\"Timestamp\", \"Open\", \"High\", \"Low\", \"Close\", \"Volume\"]\n",
        "                    writer.writerow(header)\n",
        "                writer.writerows(new_rows)\n",
        "\n",
        "            # Log the update\n",
        "            with open(LOG_FILENAME, mode=\"a\") as log_file:\n",
        "                log_file.write(f\"{datetime.now()}: Added {len(new_rows)} new rows to {STOCK_FILENAME}\\n\")\n",
        "            print(f\"Data successfully updated. Added {len(new_rows)} new rows.\")\n",
        "        else:\n",
        "            print(\"No new data to update.\")\n",
        "    else:\n",
        "        print(\"Error: Time Series data not found in the response\")\n",
        "\n",
        "# Schedule the task to run every hour\n",
        "schedule.every(1).hour.do(fetch_stock_data)\n",
        "\n",
        "# Run the function immediately for the first iteration\n",
        "print(\"Fetching data for the first time...\")\n",
        "fetch_stock_data()\n",
        "\n",
        "print(\"Scheduler is running. Press Ctrl+C to stop.\")\n",
        "\n",
        "# Keep the script running to execute the scheduler\n",
        "while True:\n",
        "    schedule.run_pending()\n",
        "    time.sleep(1)\n"
      ],
      "metadata": {
        "colab": {
          "base_uri": "https://localhost:8080/"
        },
        "id": "fcOSKX4fZ3K9",
        "outputId": "6b7ac6cf-3bc7-4442-fd07-7631d46b830e"
      },
      "execution_count": null,
      "outputs": [
        {
          "output_type": "stream",
          "name": "stdout",
          "text": [
            "Fetching data for the first time...\n",
            "Data successfully updated. Added 3704 new rows.\n",
            "Scheduler is running. Press Ctrl+C to stop.\n"
          ]
        }
      ]
    }
  ],
  "metadata": {
    "colab": {
      "provenance": []
    },
    "kernelspec": {
      "display_name": "Python 3",
      "name": "python3"
    },
    "language_info": {
      "name": "python"
    }
  },
  "nbformat": 4,
  "nbformat_minor": 0
}